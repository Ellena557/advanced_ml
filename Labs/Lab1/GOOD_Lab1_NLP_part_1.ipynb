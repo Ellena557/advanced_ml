{
 "cells": [
  {
   "cell_type": "markdown",
   "metadata": {
    "colab_type": "text",
    "id": "eulvfJWl7ueY"
   },
   "source": [
    "# Lab 1\n",
    "\n",
    "\n",
    "## Part 1: Bilingual dictionary induction and unsupervised embedding-based MT (30%)\n",
    "*Note: this homework is based on materials from yandexdataschool [NLP course](https://github.com/yandexdataschool/nlp_course/). Feel free to check this awesome course if you wish to dig deeper.*\n",
    "\n",
    "*Refined by [Nikolay Karpachev](https://www.linkedin.com/in/nikolay-karpachev-b0146a104/)*"
   ]
  },
  {
   "cell_type": "markdown",
   "metadata": {
    "colab_type": "text",
    "id": "fV4rIjxa7uei"
   },
   "source": [
    "**In this homework** **<font color='red'>YOU</font>** will make machine translation system without using parallel corpora, alignment, attention, 100500 depth super-cool recurrent neural network and all that kind superstuff.\n",
    "\n",
    "But even without parallel corpora this system can be good enough (hopefully), in particular for similar languages, e.g. Ukrainian and Russian. "
   ]
  },
  {
   "cell_type": "markdown",
   "metadata": {
    "colab_type": "text",
    "id": "idSYq2GU7uew"
   },
   "source": [
    "### Frament of the Swadesh list for some slavic languages\n",
    "\n",
    "The Swadesh list is a lexicostatistical stuff. It's named after American linguist Morris Swadesh and contains basic lexis. This list are used to define subgroupings of languages, its relatedness.\n",
    "\n",
    "So we can see some kind of word invariance for different Slavic languages.\n",
    "\n",
    "\n",
    "| Russian         | Belorussian              | Ukrainian               | Polish             | Czech                         | Bulgarian            |\n",
    "|-----------------|--------------------------|-------------------------|--------------------|-------------------------------|-----------------------|\n",
    "| женщина         | жанчына, кабета, баба    | жінка                   | kobieta            | žena                          | жена                  |\n",
    "| мужчина         | мужчына                  | чоловік, мужчина        | mężczyzna          | muž                           | мъж                   |\n",
    "| человек         | чалавек                  | людина, чоловік         | człowiek           | člověk                        | човек                 |\n",
    "| ребёнок, дитя   | дзіця, дзіцёнак, немаўля | дитина, дитя            | dziecko            | dítě                          | дете                  |\n",
    "| жена            | жонка                    | дружина, жінка          | żona               | žena, manželka, choť          | съпруга, жена         |\n",
    "| муж             | муж, гаспадар            | чоловiк, муж            | mąż                | muž, manžel, choť             | съпруг, мъж           |\n",
    "| мать, мама      | маці, матка              | мати, матір, неня, мама | matka              | matka, máma, 'стар.' mateř    | майка                 |\n",
    "| отец, тятя      | бацька, тата             | батько, тато, татусь    | ojciec             | otec                          | баща, татко           |\n",
    "| много           | шмат, багата             | багато                  | wiele              | mnoho, hodně                  | много                 |\n",
    "| несколько       | некалькі, колькі         | декілька, кілька        | kilka              | několik, pár, trocha          | няколко               |\n",
    "| другой, иной    | іншы                     | інший                   | inny               | druhý, jiný                   | друг                  |\n",
    "| зверь, животное | жывёла, звер, істота     | тварина, звір           | zwierzę            | zvíře                         | животно               |\n",
    "| рыба            | рыба                     | риба                    | ryba               | ryba                          | риба                  |\n",
    "| птица           | птушка                   | птах, птиця             | ptak               | pták                          | птица                 |\n",
    "| собака, пёс     | сабака                   | собака, пес             | pies               | pes                           | куче, пес             |\n",
    "| вошь            | вош                      | воша                    | wesz               | veš                           | въшка                 |\n",
    "| змея, гад       | змяя                     | змія, гад               | wąż                | had                           | змия                  |\n",
    "| червь, червяк   | чарвяк                   | хробак, черв'як         | robak              | červ                          | червей                |\n",
    "| дерево          | дрэва                    | дерево                  | drzewo             | strom, dřevo                  | дърво                 |\n",
    "| лес             | лес                      | ліс                     | las                | les                           | гора, лес             |\n",
    "| палка           | кій, палка               | палиця                  | patyk, pręt, pałka | hůl, klacek, prut, kůl, pálka | палка, пръчка, бастун |"
   ]
  },
  {
   "cell_type": "markdown",
   "metadata": {
    "colab_type": "text",
    "id": "cNM3_fjr7ue2"
   },
   "source": [
    "But the context distribution of these languages demonstrates even more invariance. And we can use this fact for our for our purposes."
   ]
  },
  {
   "cell_type": "markdown",
   "metadata": {
    "colab_type": "text",
    "id": "YLppwa527ue6"
   },
   "source": [
    "## Data"
   ]
  },
  {
   "cell_type": "code",
   "execution_count": 0,
   "metadata": {
    "colab": {},
    "colab_type": "code",
    "id": "lYBGKAUn7ue_"
   },
   "outputs": [],
   "source": [
    "import gensim\n",
    "import numpy as np\n",
    "from gensim.models import KeyedVectors"
   ]
  },
  {
   "cell_type": "markdown",
   "metadata": {
    "colab_type": "text",
    "id": "MwGoVhRA7ufP"
   },
   "source": [
    "In this notebook we're going to use pretrained word vectors - FastText (original paper - https://arxiv.org/abs/1607.04606).\n",
    "\n",
    "You can download them from the official [website](https://fasttext.cc/docs/en/crawl-vectors.html). We're going to need embeddings for Russian and Ukrainian languages. Please use word2vec-compatible format (.text)."
   ]
  },
  {
   "cell_type": "code",
   "execution_count": 0,
   "metadata": {
    "colab": {
     "base_uri": "https://localhost:8080/",
     "height": 124
    },
    "colab_type": "code",
    "id": "VRGUb2gDwnuD",
    "outputId": "310f2d7e-693f-4b0d-ef90-1b2ee4abf3c0"
   },
   "outputs": [
    {
     "name": "stdout",
     "output_type": "stream",
     "text": [
      "Go to this URL in a browser: https://accounts.google.com/o/oauth2/auth?client_id=947318989803-6bn6qk8qdgf4n4g3pfee6491hc0brc4i.apps.googleusercontent.com&redirect_uri=urn%3Aietf%3Awg%3Aoauth%3A2.0%3Aoob&scope=email%20https%3A%2F%2Fwww.googleapis.com%2Fauth%2Fdocs.test%20https%3A%2F%2Fwww.googleapis.com%2Fauth%2Fdrive%20https%3A%2F%2Fwww.googleapis.com%2Fauth%2Fdrive.photos.readonly%20https%3A%2F%2Fwww.googleapis.com%2Fauth%2Fpeopleapi.readonly&response_type=code\n",
      "\n",
      "Enter your authorization code:\n",
      "··········\n",
      "Mounted at /content/gdrive\n"
     ]
    }
   ],
   "source": [
    "from google.colab import drive\n",
    "drive.mount('/content/gdrive')"
   ]
  },
  {
   "cell_type": "code",
   "execution_count": 0,
   "metadata": {
    "colab": {
     "base_uri": "https://localhost:8080/",
     "height": 208
    },
    "colab_type": "code",
    "id": "zs0gS5a_w2Cv",
    "outputId": "cb7955fc-6dae-4f5b-a832-09050e13bde1"
   },
   "outputs": [
    {
     "name": "stdout",
     "output_type": "stream",
     "text": [
      "--2019-10-21 23:14:39--  https://dl.fbaipublicfiles.com/fasttext/vectors-crawl/cc.ru.300.vec.gz\n",
      "Resolving dl.fbaipublicfiles.com (dl.fbaipublicfiles.com)... 104.20.22.166, 104.20.6.166, 2606:4700:10::6814:6a6, ...\n",
      "Connecting to dl.fbaipublicfiles.com (dl.fbaipublicfiles.com)|104.20.22.166|:443... connected.\n",
      "HTTP request sent, awaiting response... 200 OK\n",
      "Length: 1306357571 (1.2G) [binary/octet-stream]\n",
      "Saving to: ‘cc.ru.300.vec.gz’\n",
      "\n",
      "cc.ru.300.vec.gz    100%[===================>]   1.22G  20.3MB/s    in 54s     \n",
      "\n",
      "2019-10-21 23:15:33 (23.2 MB/s) - ‘cc.ru.300.vec.gz’ saved [1306357571/1306357571]\n",
      "\n"
     ]
    }
   ],
   "source": [
    "!wget https://dl.fbaipublicfiles.com/fasttext/vectors-crawl/cc.ru.300.vec.gz"
   ]
  },
  {
   "cell_type": "code",
   "execution_count": 0,
   "metadata": {
    "colab": {
     "base_uri": "https://localhost:8080/",
     "height": 208
    },
    "colab_type": "code",
    "id": "KGNUOg_6w4u5",
    "outputId": "e0b93a23-07a0-4ac9-f067-2419ce1ac14b"
   },
   "outputs": [
    {
     "name": "stdout",
     "output_type": "stream",
     "text": [
      "--2019-10-21 23:15:52--  https://dl.fbaipublicfiles.com/fasttext/vectors-crawl/cc.uk.300.vec.gz\n",
      "Resolving dl.fbaipublicfiles.com (dl.fbaipublicfiles.com)... 104.20.22.166, 104.20.6.166, 2606:4700:10::6814:6a6, ...\n",
      "Connecting to dl.fbaipublicfiles.com (dl.fbaipublicfiles.com)|104.20.22.166|:443... connected.\n",
      "HTTP request sent, awaiting response... 200 OK\n",
      "Length: 1257595219 (1.2G) [binary/octet-stream]\n",
      "Saving to: ‘cc.uk.300.vec.gz’\n",
      "\n",
      "cc.uk.300.vec.gz    100%[===================>]   1.17G  23.9MB/s    in 51s     \n",
      "\n",
      "2019-10-21 23:16:44 (23.3 MB/s) - ‘cc.uk.300.vec.gz’ saved [1257595219/1257595219]\n",
      "\n"
     ]
    }
   ],
   "source": [
    "!wget https://dl.fbaipublicfiles.com/fasttext/vectors-crawl/cc.uk.300.vec.gz"
   ]
  },
  {
   "cell_type": "code",
   "execution_count": 0,
   "metadata": {
    "colab": {},
    "colab_type": "code",
    "id": "7Wd9eEVBw449"
   },
   "outputs": [],
   "source": [
    "!gunzip cc.ru.300.vec.gz"
   ]
  },
  {
   "cell_type": "code",
   "execution_count": 0,
   "metadata": {
    "colab": {},
    "colab_type": "code",
    "id": "i7atw0Ogw5HG"
   },
   "outputs": [],
   "source": [
    "!gunzip cc.uk.300.vec.gz"
   ]
  },
  {
   "cell_type": "code",
   "execution_count": 0,
   "metadata": {
    "colab": {
     "base_uri": "https://localhost:8080/",
     "height": 72
    },
    "colab_type": "code",
    "id": "u1JjQv_97ufT",
    "outputId": "4b5f3190-7772-4a91-a0ae-ce240a9f4487"
   },
   "outputs": [
    {
     "name": "stderr",
     "output_type": "stream",
     "text": [
      "/usr/local/lib/python3.6/dist-packages/smart_open/smart_open_lib.py:398: UserWarning: This function is deprecated, use smart_open.open instead. See the migration notes for details: https://github.com/RaRe-Technologies/smart_open/blob/master/README.rst#migrating-to-the-new-open-function\n",
      "  'See the migration notes for details: %s' % _MIGRATION_NOTES_URL\n"
     ]
    }
   ],
   "source": [
    "uk_emb = KeyedVectors.load_word2vec_format(\"cc.uk.300.vec\")"
   ]
  },
  {
   "cell_type": "code",
   "execution_count": 0,
   "metadata": {
    "colab": {
     "base_uri": "https://localhost:8080/",
     "height": 72
    },
    "colab_type": "code",
    "id": "ffzuept_7ufd",
    "outputId": "9100a441-41f3-46e3-dfa5-2cd003510cb1"
   },
   "outputs": [
    {
     "name": "stderr",
     "output_type": "stream",
     "text": [
      "/usr/local/lib/python3.6/dist-packages/smart_open/smart_open_lib.py:398: UserWarning: This function is deprecated, use smart_open.open instead. See the migration notes for details: https://github.com/RaRe-Technologies/smart_open/blob/master/README.rst#migrating-to-the-new-open-function\n",
      "  'See the migration notes for details: %s' % _MIGRATION_NOTES_URL\n"
     ]
    }
   ],
   "source": [
    "ru_emb = KeyedVectors.load_word2vec_format(\"cc.ru.300.vec\")"
   ]
  },
  {
   "cell_type": "code",
   "execution_count": 0,
   "metadata": {
    "colab": {
     "base_uri": "https://localhost:8080/",
     "height": 245
    },
    "colab_type": "code",
    "id": "nTkXfT0W7ufk",
    "outputId": "85e59b05-4aef-4d11-e054-c1499ad6d7f0"
   },
   "outputs": [
    {
     "name": "stderr",
     "output_type": "stream",
     "text": [
      "/usr/local/lib/python3.6/dist-packages/gensim/matutils.py:737: FutureWarning: Conversion of the second argument of issubdtype from `int` to `np.signedinteger` is deprecated. In future, it will be treated as `np.int64 == np.dtype(int).type`.\n",
      "  if np.issubdtype(vec.dtype, np.int):\n"
     ]
    },
    {
     "data": {
      "text/plain": [
       "[('август', 1.0),\n",
       " ('июль', 0.9383153915405273),\n",
       " ('сентябрь', 0.9240028858184814),\n",
       " ('июнь', 0.9222575426101685),\n",
       " ('октябрь', 0.9095538854598999),\n",
       " ('ноябрь', 0.8930036425590515),\n",
       " ('апрель', 0.8729087114334106),\n",
       " ('декабрь', 0.8652557730674744),\n",
       " ('март', 0.8545796275138855),\n",
       " ('февраль', 0.8401416540145874)]"
      ]
     },
     "execution_count": 9,
     "metadata": {
      "tags": []
     },
     "output_type": "execute_result"
    }
   ],
   "source": [
    "ru_emb.most_similar([ru_emb[\"август\"]], topn=10)"
   ]
  },
  {
   "cell_type": "code",
   "execution_count": 0,
   "metadata": {
    "colab": {
     "base_uri": "https://localhost:8080/",
     "height": 245
    },
    "colab_type": "code",
    "id": "vdBA8lcg7ufs",
    "outputId": "58a46ae8-5ea6-4350-b069-97f530a0d45e"
   },
   "outputs": [
    {
     "name": "stderr",
     "output_type": "stream",
     "text": [
      "/usr/local/lib/python3.6/dist-packages/gensim/matutils.py:737: FutureWarning: Conversion of the second argument of issubdtype from `int` to `np.signedinteger` is deprecated. In future, it will be treated as `np.int64 == np.dtype(int).type`.\n",
      "  if np.issubdtype(vec.dtype, np.int):\n"
     ]
    },
    {
     "data": {
      "text/plain": [
       "[('серпень', 0.9999999403953552),\n",
       " ('липень', 0.9096440076828003),\n",
       " ('вересень', 0.901697039604187),\n",
       " ('червень', 0.8992519378662109),\n",
       " ('жовтень', 0.8810408711433411),\n",
       " ('листопад', 0.8787633776664734),\n",
       " ('квітень', 0.8592804670333862),\n",
       " ('грудень', 0.8586863279342651),\n",
       " ('травень', 0.8408110737800598),\n",
       " ('лютий', 0.8256431818008423)]"
      ]
     },
     "execution_count": 10,
     "metadata": {
      "tags": []
     },
     "output_type": "execute_result"
    }
   ],
   "source": [
    "uk_emb.most_similar([uk_emb[\"серпень\"]])"
   ]
  },
  {
   "cell_type": "code",
   "execution_count": 0,
   "metadata": {
    "colab": {
     "base_uri": "https://localhost:8080/",
     "height": 245
    },
    "colab_type": "code",
    "id": "_yJvcKXO7uf0",
    "outputId": "70eb75fd-71e4-4d0e-da9e-0eb560f6318c"
   },
   "outputs": [
    {
     "name": "stderr",
     "output_type": "stream",
     "text": [
      "/usr/local/lib/python3.6/dist-packages/gensim/matutils.py:737: FutureWarning: Conversion of the second argument of issubdtype from `int` to `np.signedinteger` is deprecated. In future, it will be treated as `np.int64 == np.dtype(int).type`.\n",
      "  if np.issubdtype(vec.dtype, np.int):\n"
     ]
    },
    {
     "data": {
      "text/plain": [
       "[('Stepashka.com', 0.2757962942123413),\n",
       " ('ЖИЗНИВадим', 0.25203436613082886),\n",
       " ('2Дмитрий', 0.25048112869262695),\n",
       " ('2012Дмитрий', 0.24829231202602386),\n",
       " ('Ведущий-Алексей', 0.2443869560956955),\n",
       " ('Недопустимость', 0.24435284733772278),\n",
       " ('2Михаил', 0.23981399834156036),\n",
       " ('лексей', 0.23740756511688232),\n",
       " ('комплексн', 0.23695150017738342),\n",
       " ('персональ', 0.2368222028017044)]"
      ]
     },
     "execution_count": 11,
     "metadata": {
      "tags": []
     },
     "output_type": "execute_result"
    }
   ],
   "source": [
    "ru_emb.most_similar([uk_emb[\"серпень\"]])"
   ]
  },
  {
   "cell_type": "markdown",
   "metadata": {
    "colab_type": "text",
    "id": "pNdYAR1q7uf6"
   },
   "source": [
    "Load small dictionaries for correspoinding words pairs as trainset and testset."
   ]
  },
  {
   "cell_type": "code",
   "execution_count": 0,
   "metadata": {
    "colab": {},
    "colab_type": "code",
    "id": "35d_DAK67uf8"
   },
   "outputs": [],
   "source": [
    "def load_word_pairs(filename):\n",
    "    uk_ru_pairs = []\n",
    "    uk_vectors = []\n",
    "    ru_vectors = []\n",
    "    with open(filename, \"r\") as inpf:\n",
    "        for line in inpf:\n",
    "            uk, ru = line.rstrip().split(\"\\t\")\n",
    "            if uk not in uk_emb or ru not in ru_emb:\n",
    "                continue\n",
    "            uk_ru_pairs.append((uk, ru))\n",
    "            uk_vectors.append(uk_emb[uk])\n",
    "            ru_vectors.append(ru_emb[ru])\n",
    "    return uk_ru_pairs, np.array(uk_vectors), np.array(ru_vectors)"
   ]
  },
  {
   "cell_type": "code",
   "execution_count": 0,
   "metadata": {
    "colab": {
     "base_uri": "https://localhost:8080/",
     "height": 364
    },
    "colab_type": "code",
    "id": "wkNL602WHJyO",
    "outputId": "ef9cf167-7a42-4228-8dc5-ecc61665968e"
   },
   "outputs": [
    {
     "name": "stdout",
     "output_type": "stream",
     "text": [
      "--2019-10-21 23:36:26--  http://tiny.cc/jfgecz\n",
      "Resolving tiny.cc (tiny.cc)... 192.241.240.89\n",
      "Connecting to tiny.cc (tiny.cc)|192.241.240.89|:80... connected.\n",
      "HTTP request sent, awaiting response... 301 Moved Permanently\n",
      "Location: https://tiny.cc/jfgecz [following]\n",
      "--2019-10-21 23:36:26--  https://tiny.cc/jfgecz\n",
      "Connecting to tiny.cc (tiny.cc)|192.241.240.89|:443... connected.\n",
      "HTTP request sent, awaiting response... 303 See Other\n",
      "Location: https://raw.githubusercontent.com/yandexdataschool/nlp_course/master/week01_embeddings/ukr_rus.train.txt [following]\n",
      "--2019-10-21 23:36:26--  https://raw.githubusercontent.com/yandexdataschool/nlp_course/master/week01_embeddings/ukr_rus.train.txt\n",
      "Resolving raw.githubusercontent.com (raw.githubusercontent.com)... 151.101.0.133, 151.101.64.133, 151.101.128.133, ...\n",
      "Connecting to raw.githubusercontent.com (raw.githubusercontent.com)|151.101.0.133|:443... connected.\n",
      "HTTP request sent, awaiting response... 200 OK\n",
      "Length: 59351 (58K) [text/plain]\n",
      "Saving to: ‘ukr_rus.train.txt’\n",
      "\n",
      "\r",
      "ukr_rus.train.txt     0%[                    ]       0  --.-KB/s               \r",
      "ukr_rus.train.txt   100%[===================>]  57.96K  --.-KB/s    in 0.02s   \n",
      "\n",
      "2019-10-21 23:36:26 (2.28 MB/s) - ‘ukr_rus.train.txt’ saved [59351/59351]\n",
      "\n"
     ]
    }
   ],
   "source": [
    "!wget -O ukr_rus.train.txt http://tiny.cc/jfgecz"
   ]
  },
  {
   "cell_type": "code",
   "execution_count": 0,
   "metadata": {
    "colab": {
     "base_uri": "https://localhost:8080/",
     "height": 364
    },
    "colab_type": "code",
    "id": "uoclU6JcHCcn",
    "outputId": "b434118c-be1c-42ce-e12d-19b516aed718"
   },
   "outputs": [
    {
     "name": "stdout",
     "output_type": "stream",
     "text": [
      "--2019-10-21 23:36:39--  http://tiny.cc/6zoeez\n",
      "Resolving tiny.cc (tiny.cc)... 192.241.240.89\n",
      "Connecting to tiny.cc (tiny.cc)|192.241.240.89|:80... connected.\n",
      "HTTP request sent, awaiting response... 301 Moved Permanently\n",
      "Location: https://tiny.cc/6zoeez [following]\n",
      "--2019-10-21 23:36:39--  https://tiny.cc/6zoeez\n",
      "Connecting to tiny.cc (tiny.cc)|192.241.240.89|:443... connected.\n",
      "HTTP request sent, awaiting response... 303 See Other\n",
      "Location: https://raw.githubusercontent.com/yandexdataschool/nlp_course/master/week01_embeddings/ukr_rus.test.txt [following]\n",
      "--2019-10-21 23:36:39--  https://raw.githubusercontent.com/yandexdataschool/nlp_course/master/week01_embeddings/ukr_rus.test.txt\n",
      "Resolving raw.githubusercontent.com (raw.githubusercontent.com)... 151.101.0.133, 151.101.64.133, 151.101.128.133, ...\n",
      "Connecting to raw.githubusercontent.com (raw.githubusercontent.com)|151.101.0.133|:443... connected.\n",
      "HTTP request sent, awaiting response... 200 OK\n",
      "Length: 12188 (12K) [text/plain]\n",
      "Saving to: ‘ukr_rus.test.txt’\n",
      "\n",
      "\r",
      "ukr_rus.test.txt      0%[                    ]       0  --.-KB/s               \r",
      "ukr_rus.test.txt    100%[===================>]  11.90K  --.-KB/s    in 0s      \n",
      "\n",
      "2019-10-21 23:36:40 (137 MB/s) - ‘ukr_rus.test.txt’ saved [12188/12188]\n",
      "\n"
     ]
    }
   ],
   "source": [
    "!wget -O ukr_rus.test.txt http://tiny.cc/6zoeez"
   ]
  },
  {
   "cell_type": "code",
   "execution_count": 0,
   "metadata": {
    "colab": {},
    "colab_type": "code",
    "id": "05BqsdSK7ugD"
   },
   "outputs": [],
   "source": [
    "uk_ru_train, X_train, Y_train = load_word_pairs(\"ukr_rus.train.txt\")"
   ]
  },
  {
   "cell_type": "code",
   "execution_count": 0,
   "metadata": {
    "colab": {},
    "colab_type": "code",
    "id": "zQOZw51r7ugL"
   },
   "outputs": [],
   "source": [
    "uk_ru_test, X_test, Y_test = load_word_pairs(\"ukr_rus.test.txt\")"
   ]
  },
  {
   "cell_type": "markdown",
   "metadata": {
    "colab_type": "text",
    "id": "-ZBBNvpz7ugQ"
   },
   "source": [
    "## Embedding space mapping (0.3 pts)"
   ]
  },
  {
   "cell_type": "markdown",
   "metadata": {
    "colab_type": "text",
    "id": "x_Dhk5gL7ugS"
   },
   "source": [
    "Let $x_i \\in \\mathrm{R}^d$ be the distributed representation of word $i$ in the source language, and $y_i \\in \\mathrm{R}^d$ is the vector representation of its translation. Our purpose is to learn such linear transform $W$ that minimizes euclidian distance between $Wx_i$ and $y_i$ for some subset of word embeddings. Thus we can formulate so-called Procrustes problem:\n",
    "\n",
    "$$W^*= \\arg\\min_W \\sum_{i=1}^n||Wx_i - y_i||_2$$\n",
    "or\n",
    "$$W^*= \\arg\\min_W ||WX - Y||_F$$\n",
    "\n",
    "where $||*||_F$ - Frobenius norm."
   ]
  },
  {
   "cell_type": "markdown",
   "metadata": {
    "colab_type": "text",
    "id": "acOjDdtL7ugY"
   },
   "source": [
    "$W^*= \\arg\\min_W \\sum_{i=1}^n||Wx_i - y_i||_2$ looks like simple multiple linear regression (without intercept fit). So let's code."
   ]
  },
  {
   "cell_type": "code",
   "execution_count": 0,
   "metadata": {
    "colab": {},
    "colab_type": "code",
    "id": "Lb-KN1be7uga"
   },
   "outputs": [],
   "source": [
    "from sklearn.linear_model import LinearRegression\n",
    "\n",
    "# YOUR CODE HERE\n",
    "\n",
    "mapping = LinearRegression(fit_intercept = False)"
   ]
  },
  {
   "cell_type": "code",
   "execution_count": 0,
   "metadata": {
    "colab": {
     "base_uri": "https://localhost:8080/",
     "height": 35
    },
    "colab_type": "code",
    "id": "w8jnT4IXOjjL",
    "outputId": "82c7f0b3-98d0-4bbd-c04a-ce1755a94f3c"
   },
   "outputs": [
    {
     "data": {
      "text/plain": [
       "LinearRegression(copy_X=True, fit_intercept=False, n_jobs=None, normalize=False)"
      ]
     },
     "execution_count": 18,
     "metadata": {
      "tags": []
     },
     "output_type": "execute_result"
    }
   ],
   "source": [
    "# fit our model\n",
    "mapping.fit(X_train, Y_train)"
   ]
  },
  {
   "cell_type": "markdown",
   "metadata": {
    "colab_type": "text",
    "id": "X7tqJwoY7ugf"
   },
   "source": [
    "Let's take a look at neigbours of the vector of word _\"серпень\"_ (_\"август\"_ in Russian) after linear transform."
   ]
  },
  {
   "cell_type": "code",
   "execution_count": 0,
   "metadata": {
    "colab": {
     "base_uri": "https://localhost:8080/",
     "height": 245
    },
    "colab_type": "code",
    "id": "31SrFSbn7ugi",
    "outputId": "9612cdd1-f0b9-4042-df85-290c46795e96"
   },
   "outputs": [
    {
     "name": "stderr",
     "output_type": "stream",
     "text": [
      "/usr/local/lib/python3.6/dist-packages/gensim/matutils.py:737: FutureWarning: Conversion of the second argument of issubdtype from `int` to `np.signedinteger` is deprecated. In future, it will be treated as `np.int64 == np.dtype(int).type`.\n",
      "  if np.issubdtype(vec.dtype, np.int):\n"
     ]
    },
    {
     "data": {
      "text/plain": [
       "[('апрель', 0.8531433343887329),\n",
       " ('июнь', 0.8402522802352905),\n",
       " ('март', 0.8385884761810303),\n",
       " ('сентябрь', 0.8331484198570251),\n",
       " ('февраль', 0.8311208486557007),\n",
       " ('октябрь', 0.8278019428253174),\n",
       " ('ноябрь', 0.8243728280067444),\n",
       " ('июль', 0.8229618072509766),\n",
       " ('август', 0.8112279772758484),\n",
       " ('январь', 0.8022986650466919)]"
      ]
     },
     "execution_count": 19,
     "metadata": {
      "tags": []
     },
     "output_type": "execute_result"
    }
   ],
   "source": [
    "august = mapping.predict(uk_emb[\"серпень\"].reshape(1, -1))\n",
    "ru_emb.most_similar(august)"
   ]
  },
  {
   "cell_type": "markdown",
   "metadata": {
    "colab_type": "text",
    "id": "okSkjk597ugo"
   },
   "source": [
    "We can see that neighbourhood of this embedding cosists of different months, but right variant is on the ninth place."
   ]
  },
  {
   "cell_type": "markdown",
   "metadata": {
    "colab_type": "text",
    "id": "o2uY6Y9B7ugt"
   },
   "source": [
    "As quality measure we will use precision top-1, top-5 and top-10 (for each transformed Ukrainian embedding we count how many right target pairs are found in top N nearest neighbours in Russian embedding space)."
   ]
  },
  {
   "cell_type": "code",
   "execution_count": 0,
   "metadata": {
    "colab": {},
    "colab_type": "code",
    "id": "zptuho8LAfIE"
   },
   "outputs": [],
   "source": [
    "def precision(pairs, mapped_vectors, topn=1):\n",
    "    \"\"\"\n",
    "    :args:\n",
    "        pairs = list of right word pairs [(uk_word_0, ru_word_0), ...]\n",
    "        mapped_vectors = list of embeddings after mapping from source embedding space to destination embedding space\n",
    "        topn = the number of nearest neighbours in destination embedding space to choose from\n",
    "    :returns:\n",
    "        precision_val, float number, total number of words for those we can find right translation at top K.\n",
    "    \"\"\"\n",
    "    assert len(pairs) == len(mapped_vectors)\n",
    "    num_matches = 0\n",
    "    for i, (_, ru) in enumerate(pairs):\n",
    "        # YOUR CODE HERE\n",
    "        mapped_vec = mapped_vectors[i].reshape(1, -1)\n",
    "        ru_word = pairs[i][1]\n",
    "        uk_word = pairs[i][0]\n",
    "        current_neighbours = ru_emb.most_similar(mapped_vec, topn = topn)\n",
    "        \n",
    "        word_in_neigh = False\n",
    "        for neigh in np.array(current_neighbours)[:, 0]:\n",
    "          # if word is in list\n",
    "          if (ru_word == neigh):\n",
    "            word_in_neigh = True\n",
    "        \n",
    "        if (word_in_neigh):\n",
    "            num_matches += 1\n",
    "        \n",
    "    precision_val = num_matches / len(pairs)\n",
    "    return precision_val"
   ]
  },
  {
   "cell_type": "code",
   "execution_count": 0,
   "metadata": {
    "colab": {
     "base_uri": "https://localhost:8080/",
     "height": 72
    },
    "colab_type": "code",
    "id": "duhj9hpv7ugy",
    "outputId": "4d9a498f-5ba5-44ab-b84d-6ea6a6f57b4d"
   },
   "outputs": [
    {
     "name": "stderr",
     "output_type": "stream",
     "text": [
      "/usr/local/lib/python3.6/dist-packages/gensim/matutils.py:737: FutureWarning: Conversion of the second argument of issubdtype from `int` to `np.signedinteger` is deprecated. In future, it will be treated as `np.int64 == np.dtype(int).type`.\n",
      "  if np.issubdtype(vec.dtype, np.int):\n"
     ]
    }
   ],
   "source": [
    "assert precision([(\"серпень\", \"август\")], august, topn=5) == 0.0\n",
    "assert precision([(\"серпень\", \"август\")], august, topn=9) == 1.0\n",
    "assert precision([(\"серпень\", \"август\")], august, topn=10) == 1.0"
   ]
  },
  {
   "cell_type": "code",
   "execution_count": 0,
   "metadata": {
    "colab": {
     "base_uri": "https://localhost:8080/",
     "height": 72
    },
    "colab_type": "code",
    "id": "0-iyd5gP7ug5",
    "outputId": "6832d3d8-8cc9-41ff-b0bf-42f60e251d2a"
   },
   "outputs": [
    {
     "name": "stderr",
     "output_type": "stream",
     "text": [
      "/usr/local/lib/python3.6/dist-packages/gensim/matutils.py:737: FutureWarning: Conversion of the second argument of issubdtype from `int` to `np.signedinteger` is deprecated. In future, it will be treated as `np.int64 == np.dtype(int).type`.\n",
      "  if np.issubdtype(vec.dtype, np.int):\n"
     ]
    }
   ],
   "source": [
    "assert precision(uk_ru_test, X_test) == 0.0\n",
    "assert precision(uk_ru_test, Y_test) == 1.0"
   ]
  },
  {
   "cell_type": "code",
   "execution_count": 0,
   "metadata": {
    "colab": {
     "base_uri": "https://localhost:8080/",
     "height": 107
    },
    "colab_type": "code",
    "id": "U-ssEJ3x7uhA",
    "outputId": "41fc0430-d800-48f9-e3c9-3ce158214338"
   },
   "outputs": [
    {
     "name": "stderr",
     "output_type": "stream",
     "text": [
      "/usr/local/lib/python3.6/dist-packages/gensim/matutils.py:737: FutureWarning: Conversion of the second argument of issubdtype from `int` to `np.signedinteger` is deprecated. In future, it will be treated as `np.int64 == np.dtype(int).type`.\n",
      "  if np.issubdtype(vec.dtype, np.int):\n",
      "/usr/local/lib/python3.6/dist-packages/gensim/matutils.py:737: FutureWarning: Conversion of the second argument of issubdtype from `int` to `np.signedinteger` is deprecated. In future, it will be treated as `np.int64 == np.dtype(int).type`.\n",
      "  if np.issubdtype(vec.dtype, np.int):\n"
     ]
    }
   ],
   "source": [
    "precision_top1 = precision(uk_ru_test, mapping.predict(X_test), 1)\n",
    "precision_top5 = precision(uk_ru_test, mapping.predict(X_test), 5)"
   ]
  },
  {
   "cell_type": "code",
   "execution_count": 0,
   "metadata": {
    "colab": {
     "base_uri": "https://localhost:8080/",
     "height": 52
    },
    "colab_type": "code",
    "id": "7K-hy7a6Ksn2",
    "outputId": "af20d537-5caf-4f7b-d1f7-9c60bfa9bbb1"
   },
   "outputs": [
    {
     "name": "stdout",
     "output_type": "stream",
     "text": [
      "0.628498727735369\n",
      "0.7913486005089059\n"
     ]
    }
   ],
   "source": [
    "print(precision_top1)\n",
    "print(precision_top5)"
   ]
  },
  {
   "cell_type": "markdown",
   "metadata": {
    "colab_type": "text",
    "id": "hf6Ou8bx7uhH"
   },
   "source": [
    "## Making it better (orthogonal Procrustean problem) (0.3 pts)"
   ]
  },
  {
   "cell_type": "markdown",
   "metadata": {
    "colab_type": "text",
    "id": "4oLs-drN7uhK"
   },
   "source": [
    "It can be shown (see original paper) that a self-consistent linear mapping between semantic spaces should be orthogonal. \n",
    "We can restrict transform $W$ to be orthogonal. Then we will solve next problem:\n",
    "\n",
    "$$W^*= \\arg\\min_W ||WX - Y||_F \\text{, where: } W^TW = I$$\n",
    "\n",
    "$$I \\text{- identity matrix}$$\n",
    "\n",
    "Instead of making yet another regression problem we can find optimal orthogonal transformation using singular value decomposition. It turns out that optimal transformation $W^*$ can be expressed via SVD components:\n",
    "$$X^TY=U\\Sigma V^T\\text{, singular value decompostion}$$\n",
    "$$W^*=UV^T$$"
   ]
  },
  {
   "cell_type": "code",
   "execution_count": 0,
   "metadata": {
    "colab": {},
    "colab_type": "code",
    "id": "_KSaRJFGMFiJ"
   },
   "outputs": [],
   "source": [
    "import numpy as np"
   ]
  },
  {
   "cell_type": "code",
   "execution_count": 0,
   "metadata": {
    "colab": {},
    "colab_type": "code",
    "id": "DdFQ7qti7uhL"
   },
   "outputs": [],
   "source": [
    "def learn_transform(X_train, Y_train):\n",
    "    \"\"\" \n",
    "    :returns: W* : float matrix[emb_dim x emb_dim] as defined in formulae above\n",
    "    \"\"\"\n",
    "    # YOUR CODE GOES HERE\n",
    "    # compute orthogonal embedding space mapping\n",
    "    \n",
    "    prod = np.dot(X_train.T, Y_train)\n",
    "    U, Sigma, V_T = np.linalg.svd(prod)\n",
    "    mapping = np.dot(U, V_T)\n",
    "\n",
    "    return mapping"
   ]
  },
  {
   "cell_type": "code",
   "execution_count": 0,
   "metadata": {
    "colab": {},
    "colab_type": "code",
    "id": "7X7QfYDd7uhQ"
   },
   "outputs": [],
   "source": [
    "W = learn_transform(X_train, Y_train)"
   ]
  },
  {
   "cell_type": "code",
   "execution_count": 0,
   "metadata": {
    "colab": {
     "base_uri": "https://localhost:8080/",
     "height": 245
    },
    "colab_type": "code",
    "id": "OVOFYYa37uhX",
    "outputId": "902f713b-3bca-42cc-b3ba-f57f72665dba"
   },
   "outputs": [
    {
     "name": "stderr",
     "output_type": "stream",
     "text": [
      "/usr/local/lib/python3.6/dist-packages/gensim/matutils.py:737: FutureWarning: Conversion of the second argument of issubdtype from `int` to `np.signedinteger` is deprecated. In future, it will be treated as `np.int64 == np.dtype(int).type`.\n",
      "  if np.issubdtype(vec.dtype, np.int):\n"
     ]
    },
    {
     "data": {
      "text/plain": [
       "[('апрель', 0.8245131373405457),\n",
       " ('июнь', 0.8056631088256836),\n",
       " ('сентябрь', 0.8055763244628906),\n",
       " ('март', 0.8032934069633484),\n",
       " ('октябрь', 0.798710286617279),\n",
       " ('июль', 0.7946796417236328),\n",
       " ('ноябрь', 0.7939636707305908),\n",
       " ('август', 0.7938191294670105),\n",
       " ('февраль', 0.7923860549926758),\n",
       " ('декабрь', 0.7715376615524292)]"
      ]
     },
     "execution_count": 28,
     "metadata": {
      "tags": []
     },
     "output_type": "execute_result"
    }
   ],
   "source": [
    "ru_emb.most_similar([np.matmul(uk_emb[\"серпень\"], W)])"
   ]
  },
  {
   "cell_type": "code",
   "execution_count": 0,
   "metadata": {
    "colab": {
     "base_uri": "https://localhost:8080/",
     "height": 107
    },
    "colab_type": "code",
    "id": "r297sYP37uhb",
    "outputId": "cee1430f-c002-4d95-c5d7-3dba64d844c8"
   },
   "outputs": [
    {
     "name": "stderr",
     "output_type": "stream",
     "text": [
      "/usr/local/lib/python3.6/dist-packages/gensim/matutils.py:737: FutureWarning: Conversion of the second argument of issubdtype from `int` to `np.signedinteger` is deprecated. In future, it will be treated as `np.int64 == np.dtype(int).type`.\n",
      "  if np.issubdtype(vec.dtype, np.int):\n"
     ]
    },
    {
     "name": "stdout",
     "output_type": "stream",
     "text": [
      "0.6437659033078881\n",
      "0.7989821882951654\n"
     ]
    }
   ],
   "source": [
    "print(precision(uk_ru_test, np.matmul(X_test, W)))\n",
    "print(precision(uk_ru_test, np.matmul(X_test, W), 5))"
   ]
  },
  {
   "cell_type": "markdown",
   "metadata": {
    "colab_type": "text",
    "id": "hvUZ72U5AfJg"
   },
   "source": [
    "## Unsupervised embedding-based MT (0.4 pts)"
   ]
  },
  {
   "cell_type": "markdown",
   "metadata": {
    "colab_type": "text",
    "id": "LLyuVfHBLrJn"
   },
   "source": [
    "Now, let's build our word embeddings-based translator!"
   ]
  },
  {
   "cell_type": "markdown",
   "metadata": {
    "colab_type": "text",
    "id": "tPAURW1CMuP7"
   },
   "source": [
    "Firstly, download OPUS Tatoeba corpus."
   ]
  },
  {
   "cell_type": "code",
   "execution_count": 0,
   "metadata": {
    "colab": {
     "base_uri": "https://localhost:8080/",
     "height": 208
    },
    "colab_type": "code",
    "id": "F80kUKzQMsDu",
    "outputId": "c70fca15-02f5-4ae5-f150-ed7a880bd5bd"
   },
   "outputs": [
    {
     "name": "stdout",
     "output_type": "stream",
     "text": [
      "--2019-10-21 23:49:35--  https://object.pouta.csc.fi/OPUS-Tatoeba/v20190709/mono/uk.txt.gz\n",
      "Resolving object.pouta.csc.fi (object.pouta.csc.fi)... 86.50.254.18\n",
      "Connecting to object.pouta.csc.fi (object.pouta.csc.fi)|86.50.254.18|:443... connected.\n",
      "HTTP request sent, awaiting response... 200 OK\n",
      "Length: 1819128 (1.7M) [application/gzip]\n",
      "Saving to: ‘uk.txt.gz’\n",
      "\n",
      "uk.txt.gz           100%[===================>]   1.73M  2.26MB/s    in 0.8s    \n",
      "\n",
      "2019-10-21 23:49:37 (2.26 MB/s) - ‘uk.txt.gz’ saved [1819128/1819128]\n",
      "\n"
     ]
    }
   ],
   "source": [
    "!wget https://object.pouta.csc.fi/OPUS-Tatoeba/v20190709/mono/uk.txt.gz"
   ]
  },
  {
   "cell_type": "code",
   "execution_count": 0,
   "metadata": {
    "colab": {
     "base_uri": "https://localhost:8080/",
     "height": 35
    },
    "colab_type": "code",
    "id": "0CGFZoxCUVf1",
    "outputId": "03b71123-116c-44a0-c787-5b509cdfac59"
   },
   "outputs": [
    {
     "name": "stdout",
     "output_type": "stream",
     "text": [
      "gzip: ./uk.txt already exists; do you wish to overwrite (y or n)? y\n"
     ]
    }
   ],
   "source": [
    "!gzip -d ./uk.txt.gz"
   ]
  },
  {
   "cell_type": "code",
   "execution_count": 0,
   "metadata": {
    "colab": {},
    "colab_type": "code",
    "id": "2MV3VvoVUX5U"
   },
   "outputs": [],
   "source": [
    "with open('./uk.txt', 'r') as f:\n",
    "    uk_corpus = f.readlines()"
   ]
  },
  {
   "cell_type": "code",
   "execution_count": 0,
   "metadata": {
    "colab": {},
    "colab_type": "code",
    "id": "tU7nPVf0UhbI"
   },
   "outputs": [],
   "source": [
    "# To save your time and CPU, feel free to use first 1000 sentences of the corpus\n",
    "uk_corpus = uk_corpus[:1000]"
   ]
  },
  {
   "cell_type": "markdown",
   "metadata": {
    "colab_type": "text",
    "id": "XCrOIjl8iOUO"
   },
   "source": [
    "Приводим к нижнему регистру, чтобы корректно обращаться к словарю (он может и не содежать слова из начала предложения, находящегося в верхнем регистре, так что можем ошибочно сказать, что такого слова в словаре нет).\n"
   ]
  },
  {
   "cell_type": "code",
   "execution_count": 0,
   "metadata": {
    "colab": {},
    "colab_type": "code",
    "id": "FLN8dBOXAfJ1"
   },
   "outputs": [],
   "source": [
    "# Any necessary preprocessing if needed\n",
    "# YOUR CODE HERE\n",
    "\n",
    "#new_uk_corpus = []\n",
    "# I will turn the letters to lower case\n",
    "#for sentence in uk_corpus:\n",
    "  #sentence = sentence.lower() \n",
    "#  new_uk_corpus.append(sentence.lower())\n",
    "\n",
    "#uk_corpus = new_uk_corpus"
   ]
  },
  {
   "cell_type": "markdown",
   "metadata": {
    "colab_type": "text",
    "id": "qI5Y2JQ_tMm4"
   },
   "source": [
    "В клетке выше закомментирована последняя строка (как раз перевод к нижнему регистру), так как в ходе работы выяснилось, что переход к нижнему регистру ухудшает качество перевода. Например, \"Я\" в начале предложений переводится как \"мной\", да и более значительные ошибки имеются. Например в данном списке предложений (см. ниже) \"Александр\" с заменой на \"александр\" будет переведен как \"борис\", что серьезно искажает смысл. Таким образом, обойдемся без препроцессинга."
   ]
  },
  {
   "cell_type": "code",
   "execution_count": 0,
   "metadata": {
    "colab": {},
    "colab_type": "code",
    "id": "FGksC7l_NMi9"
   },
   "outputs": [],
   "source": [
    "def translate(sentence):\n",
    "    \"\"\"\n",
    "    :args:\n",
    "        sentence - sentence in Ukrainian (str)\n",
    "    :returns:\n",
    "        translation - sentence in Russian (str)\n",
    "\n",
    "    * find ukrainian embedding for each word in sentence\n",
    "    * transform ukrainian embedding vector\n",
    "    * find nearest russian word and replace\n",
    "    \"\"\"\n",
    "    # YOUR CODE GOES HERE\n",
    " \n",
    "    # the vocab that we have: beyond this list we don't know any translations of uk-words\n",
    "    uk_voc_exist = uk_emb.vocab.keys()\n",
    "    \n",
    "    translated = []\n",
    "    words = sentence.split()\n",
    "    for word in words:\n",
    "      \n",
    "      #And I also skip this \"lower\" for the same reasons\n",
    "      #word = one_word.lower()\n",
    "        if (word not in uk_voc_exist):\n",
    "        #we add the natural(uk) form of word to save a little meaning\n",
    "            translated.append(word)\n",
    "        else:\n",
    "            vect = uk_emb.get_vector(word)\n",
    "            #ru_emb.most_similar([np.matmul(uk_emb[\"серпень\"], W)])\n",
    "            uk_emb_vect = [np.matmul(vect, W)]\n",
    "        \n",
    "            # 1 here is because we find the nearest word\n",
    "            ru_translation = ru_emb.most_similar(uk_emb_vect, topn = 1)\n",
    "            #print(ru_translation)\n",
    "            ru_translation = ru_translation[0][0]\n",
    "            translated.append(ru_translation)\n",
    "    \n",
    "    return \" \".join(translated)"
   ]
  },
  {
   "cell_type": "code",
   "execution_count": 0,
   "metadata": {
    "colab": {
     "base_uri": "https://localhost:8080/",
     "height": 72
    },
    "colab_type": "code",
    "id": "4hbbMy-tNxlf",
    "outputId": "12bdf0a1-3b48-46a4-fb23-66841d907c98"
   },
   "outputs": [
    {
     "name": "stderr",
     "output_type": "stream",
     "text": [
      "/usr/local/lib/python3.6/dist-packages/gensim/matutils.py:737: FutureWarning: Conversion of the second argument of issubdtype from `int` to `np.signedinteger` is deprecated. In future, it will be treated as `np.int64 == np.dtype(int).type`.\n",
      "  if np.issubdtype(vec.dtype, np.int):\n"
     ]
    }
   ],
   "source": [
    "assert translate(\".\") == \".\"\n",
    "assert translate(\"1 , 3\") == \"1 , 3\"\n",
    "assert translate(\"кіт зловив мишу\") == \"кот поймал мышку\""
   ]
  },
  {
   "cell_type": "markdown",
   "metadata": {
    "colab_type": "text",
    "id": "ia6I2ce7O_HI"
   },
   "source": [
    "Now you can play with your model and try to get as accurate translations as possible. **Note**: one big issue is out-of-vocabulary words. Try to think of various ways of handling it (you can start with translating each of them to a special **UNK** token and then move to more sophisticated approaches). Good luck!"
   ]
  },
  {
   "cell_type": "code",
   "execution_count": 0,
   "metadata": {
    "colab": {
     "base_uri": "https://localhost:8080/",
     "height": 1000
    },
    "colab_type": "code",
    "id": "ap1W7ZCeOAVU",
    "outputId": "45cf8d29-14c0-4223-f3c9-171e8662658d"
   },
   "outputs": [
    {
     "name": "stderr",
     "output_type": "stream",
     "text": [
      "/usr/local/lib/python3.6/dist-packages/gensim/matutils.py:737: FutureWarning: Conversion of the second argument of issubdtype from `int` to `np.signedinteger` is deprecated. In future, it will be treated as `np.int64 == np.dtype(int).type`.\n",
      "  if np.issubdtype(vec.dtype, np.int):\n"
     ]
    },
    {
     "name": "stdout",
     "output_type": "stream",
     "text": [
      "Я уже закончу коледж, когда мы прибежишь со океании\n",
      "Город бомбили враждебные літаки.\n",
      "Можливо, мной антисоціальний, конечно это не означає, что мной не общаюсь со людьми\n",
      "Впрочем утра выпала роса.\n",
      "Беда не приходит одна\n",
      "Посмотри по тот жеребей\n",
      "Я заказал два гамбургера.\n",
      "Я не хотел никого образити.\n",
      "Гора покрыта снігом.\n",
      "по фотографии во девушки корона не со золота, а со цветы\n",
      "Во меня То мрія.\n",
      "Я приехал во Японию со Китая\n",
      "по север находится Шотландія; по юге — Англія; по востоке — Уельс; и ещe дальше по востоке — северная Ірландія.\n",
      "Его родная страна — Німеччина.\n",
      "Берн — столица Швейцарії.\n",
      "Он ждал по него к десятой часа\n",
      "Ты можешь взять ту книгу даром.\n",
      "Такой роман сочинил известный американский писатель\n",
      "Забронюйте, будте ласкаві, комнату возле международного аэропорта во Торонто.\n",
      "Он знає, что ты его кохаєш?\n",
      "Я знаю, что ты багатий.\n",
      "Ті, кто всё забувають, щасливі.\n",
      "Во этой реке опасно плавати.\n",
      "Прийшов, побачив, переміг.\n",
      "Я хожу к школы пішки.\n",
      "Не моя справа!\n",
      "Не забудь квиток.\n",
      "Кто він?\n",
      "Вы будете чай ли каву?\n",
      "Он не пойдет по пікнік, как и мной\n",
      "Когда Вы народилися?\n",
      "Это моя любимая песня\n",
      "мы почти сім’я.\n",
      "Какой красивый сегодня місяць!\n",
      "Я против каких-либо війн.\n",
      "поверхность воздушной шары — неевклідовий простір, потому для неё не выполняются правила симметрической геометрії.\n",
      "Кажуть, что американцы считают количество грошей, какую зарабатывает людина, мерилом его уміння.\n",
      "Можно мной примірю это плаття?\n",
      "Если будет красивая погода, мы доберёмся туда завтра\n",
      "Это был злой заєць.\n",
      "Один, два, три, чотири, п'ять, шість, сім, вісім, дев'ять, десять.\n",
      "Кто во любви не знається, тот горя не знает.И\n",
      "Его иметь волнуется за него\n",
      "Я уважаю тих, кто старается со всех сил.И\n",
      "необычайная дружба переросла во глубокое чувство.\n",
      "Рейчел п’є много молока каждый день\n",
      "Он злодій.\n",
      "Шумового загрязнение можно было бы позбігнути только если бы люди были более чувствительны к окружающей среды\n",
      "чай со лимоном, будте ласкаві.\n",
      "Не путать желание со коханням.\n",
      "Я бы со удовольствием сочинил сотни сложноподчинённые во Tatoeb’і, конечно во меня То дела\n",
      "Дайте мне чашечку кави.\n",
      "ведь же ты никогда мне о это не розповідала!\n",
      "Во тебя будут проблеми, если твои родители довідаються.\n",
      "Запах роз наполнил кімнату.\n",
      "Как во тебя справи?\n",
      "Это мои штани.\n",
      "Ні, спасибо\n",
      "Я не розумію, почему Германия победила по Євробаченні.\n",
      "Добрый вечер\n",
      "Со юбілеєм Алексея Палашка поприветствовал президент Белоруссии Александр Лукашенко.\n",
      "Млечный путь — широкий пояс со далеких зірок, каждая звезда — сонце, такое как наше.\n",
      "удивительно видеть рок-звёзд со краваткою!\n",
      "всё печенье во форме зірок.\n",
      "ЧТо мне одеть — штаны ли спідницю?\n",
      "Краусс утверждал — известный московский скульптор.\n",
      "Ой был злой кролик.\n",
      "Можешь взять будь-який, что тебе к сподоби.\n",
      "Конечно мной піду.\n",
      "шелковичные прядут кокони.\n",
      "ЧТо бы ты зробила, если бы во тебя було, скажім, десять тысяч доларів?\n",
      "Он думає, что он хтось, а действительно он никто\n",
      "она очень гордится своею коллекцией марок.\n",
      "Он очень простий...\n",
      "Какая ты добра!\n",
      "Как мной за тобой скучив!\n",
      "Это все, что мной знаю\n",
      "Ты ведёшь щоденник?\n",
      "Тебе вирішувати.\n",
      "Это пошта, а то — экспортно-импортный\n",
      "Это все, что мной хочу сделать.Но\n",
      "Я впервые смотрю такой страшный фильм\n",
      "Этa песня напоминает мне о домИ\n",
      "Хироси тут?\n",
      "Меня зовут Джек.\n",
      "Как женщина живе, так она и помре.\n",
      "Я здесь уже две часа\n",
      "Мне надо извиниться перед Ен.\n",
      "Сегодня мной видел шпака.\n",
      "«Скільки стоить та носовая хусточка?» — «Дев'яносто п'ять центів».\n",
      "солдаты ведмеді, как правило, очень небезпечні.\n",
      "Он быстро втомлюється.\n",
      "остальные готові.\n",
      "Он скучает по своей сім'ї.\n",
      "«Дякую», — «На здоров'я».\n",
      "Я ещe не знаю своего адреси, мной определенный момент буду жить во подруги.\n",
      "Амазонка— вторая по длине река во мире после Ніла.\n",
      "А если увидишь Тома, передай ему от меня вітання.\n",
      "закрой за собой дверь\n",
      "Держи при себе словар\n"
     ]
    }
   ],
   "source": [
    "for sent in uk_corpus[::10]:\n",
    "    print(translate(sent))"
   ]
  },
  {
   "cell_type": "code",
   "execution_count": 0,
   "metadata": {
    "colab": {},
    "colab_type": "code",
    "id": "cB2DUUwdeHXs"
   },
   "outputs": [],
   "source": [
    "# Второй способ для неизвестных слов - просто заменять их на UNK-token\n",
    "# Однако он несет меньше смысла, чем первый (оставлять слово из украинского словаря), \n",
    "# потому как в первом мы еще могли догадываться о значении слова, теперь же вся информация о нем пропадет\n",
    "\n",
    "def translate(sentence):\n",
    "    \"\"\"\n",
    "    :args:\n",
    "        sentence - sentence in Ukrainian (str)\n",
    "    :returns:\n",
    "        translation - sentence in Russian (str)\n",
    "\n",
    "    * find ukrainian embedding for each word in sentence\n",
    "    * transform ukrainian embedding vector\n",
    "    * find nearest russian word and replace\n",
    "    \"\"\"\n",
    "    # YOUR CODE GOES HERE\n",
    " \n",
    "    # the vocab that we have: beyond this list we don't know any translations of uk-words\n",
    "    uk_voc_exist = uk_emb.vocab.keys()\n",
    "    \n",
    "    translated = []\n",
    "    words = sentence.split()\n",
    "    for word in words:\n",
    "      #word = one_word.lower()\n",
    "        if (word not in uk_voc_exist):\n",
    "            #we add the natural(uk) form of word to save a little meaning\n",
    "            #translated.append(word)\n",
    "            translated.append(\"<UNK>\")\n",
    "        else:\n",
    "            vect = uk_emb.get_vector(word)\n",
    "            #ru_emb.most_similar([np.matmul(uk_emb[\"серпень\"], W)])\n",
    "            uk_emb_vect = [np.matmul(vect, W)]\n",
    "        \n",
    "            # 1 here is because we find the nearest word\n",
    "            ru_translation = ru_emb.most_similar(uk_emb_vect, topn = 1)\n",
    "            #print(ru_translation)\n",
    "            ru_translation = ru_translation[0][0]\n",
    "            translated.append(ru_translation)\n",
    "    \n",
    "    return \" \".join(translated)"
   ]
  },
  {
   "cell_type": "code",
   "execution_count": 0,
   "metadata": {
    "colab": {
     "base_uri": "https://localhost:8080/",
     "height": 1000
    },
    "colab_type": "code",
    "id": "nH138Yi_eHbE",
    "outputId": "ebfa2426-01bf-4ab4-8a8e-8c8588887d0c"
   },
   "outputs": [
    {
     "name": "stderr",
     "output_type": "stream",
     "text": [
      "/usr/local/lib/python3.6/dist-packages/gensim/matutils.py:737: FutureWarning: Conversion of the second argument of issubdtype from `int` to `np.signedinteger` is deprecated. In future, it will be treated as `np.int64 == np.dtype(int).type`.\n",
      "  if np.issubdtype(vec.dtype, np.int):\n"
     ]
    },
    {
     "name": "stdout",
     "output_type": "stream",
     "text": [
      "Я уже закончу <UNK> когда мы прибежишь со океании\n",
      "Город бомбили враждебные <UNK>\n",
      "<UNK> мной <UNK> конечно это не <UNK> что мной не общаюсь со людьми\n",
      "Впрочем утра выпала <UNK>\n",
      "Беда не приходит одна\n",
      "Посмотри по тот жеребей\n",
      "Я заказал два <UNK>\n",
      "Я не хотел никого <UNK>\n",
      "Гора покрыта <UNK>\n",
      "по фотографии во девушки корона не со <UNK> а со цветы\n",
      "Во меня То <UNK>\n",
      "Я приехал во Японию со Китая\n",
      "по север находится <UNK> по юге — <UNK> по востоке — <UNK> и ещe дальше по востоке — северная <UNK>\n",
      "Его родная страна — <UNK>\n",
      "Берн — столица <UNK>\n",
      "Он ждал по него к десятой часа\n",
      "Ты можешь взять ту книгу <UNK>\n",
      "Такой роман сочинил известный американский писатель\n",
      "<UNK> будте <UNK> комнату возле международного аэропорта во <UNK>\n",
      "Он <UNK> что ты его <UNK>\n",
      "Я <UNK> что ты <UNK>\n",
      "<UNK> кто всё <UNK> <UNK>\n",
      "Во этой реке опасно <UNK>\n",
      "<UNK> <UNK> <UNK>\n",
      "Я хожу к школы <UNK>\n",
      "Не моя <UNK>\n",
      "Не забудь <UNK>\n",
      "Кто <UNK>\n",
      "Вы будете чай ли <UNK>\n",
      "Он не пойдет по <UNK> как и мной\n",
      "Когда Вы <UNK>\n",
      "Это моя любимая песня\n",
      "мы почти <UNK>\n",
      "Какой красивый сегодня <UNK>\n",
      "Я против каких-либо <UNK>\n",
      "поверхность воздушной шары — <UNK> <UNK> потому для неё не выполняются правила симметрической <UNK>\n",
      "<UNK> что американцы считают количество <UNK> какую зарабатывает <UNK> мерилом его <UNK>\n",
      "Можно мной <UNK> это <UNK>\n",
      "Если будет красивая <UNK> мы доберёмся туда завтра\n",
      "Это был злой <UNK>\n",
      "<UNK> <UNK> <UNK> <UNK> <UNK> <UNK> <UNK> <UNK> <UNK> <UNK>\n",
      "Кто во любви не <UNK> тот горя не знает.И\n",
      "Его иметь волнуется за него\n",
      "Я уважаю <UNK> кто старается со всех сил.И\n",
      "необычайная дружба переросла во глубокое чувство.\n",
      "Рейчел <UNK> много молока каждый день\n",
      "Он <UNK>\n",
      "<UNK> загрязнение можно было бы <UNK> только если бы люди были более чувствительны к окружающей среды\n",
      "чай со <UNK> будте <UNK>\n",
      "Не путать желание со <UNK>\n",
      "Я бы со удовольствием сочинил сотни сложноподчинённые во <UNK> конечно во меня То дела\n",
      "Дайте мне чашечку <UNK>\n",
      "ведь же ты никогда мне о это не <UNK>\n",
      "Во тебя будут <UNK> если твои родители <UNK>\n",
      "Запах роз наполнил <UNK>\n",
      "Как во тебя <UNK>\n",
      "Это мои <UNK>\n",
      "<UNK> спасибо\n",
      "Я не <UNK> почему Германия победила по <UNK>\n",
      "Добрый вечер\n",
      "Со <UNK> Алексея Палашка поприветствовал президент Белоруссии Александр <UNK>\n",
      "Млечный путь — широкий пояс со далеких <UNK> каждая звезда — <UNK> такое как <UNK>\n",
      "удивительно видеть рок-звёзд со <UNK>\n",
      "всё печенье во форме <UNK>\n",
      "ЧТо мне одеть — штаны ли <UNK>\n",
      "Краусс утверждал — известный московский <UNK>\n",
      "Ой был злой <UNK>\n",
      "Можешь взять <UNK> что тебе к <UNK>\n",
      "Конечно мной <UNK>\n",
      "шелковичные прядут <UNK>\n",
      "ЧТо бы ты <UNK> если бы во тебя <UNK> <UNK> десять тысяч <UNK>\n",
      "Он <UNK> что он <UNK> а действительно он никто\n",
      "она очень гордится своею коллекцией <UNK>\n",
      "Он очень <UNK>\n",
      "Какая ты <UNK>\n",
      "Как мной за тобой <UNK>\n",
      "Это <UNK> что мной знаю\n",
      "Ты ведёшь <UNK>\n",
      "Тебе <UNK>\n",
      "Это <UNK> а то — экспортно-импортный\n",
      "Это <UNK> что мной хочу сделать.Но\n",
      "Я впервые смотрю такой страшный фильм\n",
      "Этa песня напоминает мне о домИ\n",
      "Хироси <UNK>\n",
      "Меня зовут <UNK>\n",
      "Как женщина <UNK> так она и <UNK>\n",
      "Я здесь уже две часа\n",
      "Мне надо извиниться перед <UNK>\n",
      "Сегодня мной видел <UNK>\n",
      "<UNK> стоить та носовая <UNK> — <UNK> <UNK> <UNK>\n",
      "солдаты <UNK> как <UNK> очень <UNK>\n",
      "Он быстро <UNK>\n",
      "остальные <UNK>\n",
      "Он скучает по своей <UNK>\n",
      "<UNK> — <UNK> <UNK>\n",
      "Я ещe не знаю своего <UNK> мной определенный момент буду жить во <UNK>\n",
      "<UNK> вторая по длине река во мире после <UNK>\n",
      "А если увидишь <UNK> передай ему от меня <UNK>\n",
      "закрой за собой дверь\n",
      "Держи при себе словар\n"
     ]
    }
   ],
   "source": [
    "# CHECK\n",
    "for sent in uk_corpus[::10]:\n",
    "    print(translate(sent))"
   ]
  },
  {
   "cell_type": "markdown",
   "metadata": {
    "colab_type": "text",
    "id": "UniDVYDDerRG"
   },
   "source": [
    "Действительно, первый способ выглядит приятнее. Однако во втором сразу видно, где именно находятся незнакомые нам слова. Если бы возникла такая ситуация, что слово в русском и украинском языках пишется абсолютно одинаково, но при этом в словаре его нет, то в первом случае мы пропустили бы эту ситуацию, однако во втором получилось бы ее идентифицировать. Но в то же время в первом случае мы можем сами попытаться понять смысл неизвестных слов, чего не можем сделать во втором случае."
   ]
  },
  {
   "cell_type": "markdown",
   "metadata": {
    "colab_type": "text",
    "id": "vR3i59Xyjiqx"
   },
   "source": [
    "Про препроцессинг: если не делать преобразование к нижнему регистру, то некоторые слова переводятся красивее: например в начале предложений ставится не \"мной\", а \"я\", но в то же время существует опасность, что мы потеряем какой-нибудь перевод."
   ]
  },
  {
   "cell_type": "markdown",
   "metadata": {
    "colab_type": "text",
    "id": "sWZ8pr22S758"
   },
   "source": [
    "Great! \n",
    "See second notebook for the Neural Machine Translation assignment."
   ]
  }
 ],
 "metadata": {
  "accelerator": "GPU",
  "anaconda-cloud": {},
  "colab": {
   "collapsed_sections": [],
   "machine_shape": "hm",
   "name": "GOOD Lab1_NLP_part_1.ipynb",
   "provenance": []
  },
  "kernelspec": {
   "display_name": "Py3 research env",
   "language": "python",
   "name": "py3_research"
  },
  "language_info": {
   "codemirror_mode": {
    "name": "ipython",
    "version": 3
   },
   "file_extension": ".py",
   "mimetype": "text/x-python",
   "name": "python",
   "nbconvert_exporter": "python",
   "pygments_lexer": "ipython3",
   "version": "3.6.7"
  }
 },
 "nbformat": 4,
 "nbformat_minor": 1
}
